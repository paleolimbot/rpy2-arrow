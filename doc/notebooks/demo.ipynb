{
 "cells": [
  {
   "cell_type": "markdown",
   "metadata": {},
   "source": [
    "# Apache Arrow shared between Python and R with rpy2\n",
    "\n",
    "The Python package shown here is available at:\n",
    "https://github.com/rpy2/rpy2-arrow"
   ]
  },
  {
   "cell_type": "code",
   "execution_count": 1,
   "metadata": {},
   "outputs": [],
   "source": [
    "import pyarrow\n",
    "import pyarrow.dataset as ds\n",
    "import rpy2_arrow.pyarrow_rarrow as pyra"
   ]
  },
  {
   "cell_type": "markdown",
   "metadata": {},
   "source": [
    "Our dataset in the NYC taxi one made available to download in the Parquet format by Ursa Labs."
   ]
  },
  {
   "cell_type": "code",
   "execution_count": 2,
   "metadata": {},
   "outputs": [],
   "source": [
    "DATA_PATH = 'nyc-taxi'"
   ]
  },
  {
   "cell_type": "markdown",
   "metadata": {},
   "source": [
    "## Setup: Get a dataset\n",
    "\n",
    "Most will not have that data already available locally in directories. We use a Python\n",
    "translation of the code as https://ursalabs.org/arrow-r-nightly/articles/dataset.html\n",
    "to fetch the data."
   ]
  },
  {
   "cell_type": "code",
   "execution_count": 3,
   "metadata": {},
   "outputs": [
    {
     "name": "stdout",
     "output_type": "stream",
     "text": [
      "     |            |\n",
      "2009 ssssssssss\n",
      "\n",
      "\n"
     ]
    }
   ],
   "source": [
    "# This allows download an incomplete dataset\n",
    "# in the interest of time. Set it to None or -1\n",
    "# to download the complete dataset.\n",
    "MAX_NMONTHS = 10\n",
    "\n",
    "import os\n",
    "import urllib.parse\n",
    "import urllib.request\n",
    "import shutil\n",
    "\n",
    "BUCKET = 'https://ursa-labs-taxi-data.s3.us-east-2.amazonaws.com'\n",
    "paths = []\n",
    "print('     |            |')\n",
    "for year in range(2009, 2020):\n",
    "    if len(paths) == MAX_NMONTHS:\n",
    "        print()\n",
    "        break\n",
    "    print(f'{year} ', end='', flush=True)\n",
    "    if year == 2019:\n",
    "        # We only have through June 2019 there\n",
    "        months = range(1, 7)\n",
    "    else:\n",
    "        months = range(1, 13)\n",
    "    for month in months:\n",
    "        if len(paths) == MAX_NMONTHS:\n",
    "            print()\n",
    "            break\n",
    "        month_str = f'{month:02d}'\n",
    "        year_str = str(year)\n",
    "        url = urllib.parse.urljoin(BUCKET, '/'.join((year_str, month_str, 'data.parquet')))\n",
    "        filename = os.path.join(DATA_PATH, year_str, month_str, 'data.parquet')\n",
    "        if os.path.exists(filename):\n",
    "            print('s', end='', flush=True)\n",
    "            paths.append(filename)\n",
    "            continue\n",
    "        print('D', end='', flush=True)\n",
    "        os.makedirs(os.path.join(DATA_PATH, year_str, month_str))\n",
    "        with urllib.request.urlopen(url) as response, open(filename, 'wb') as output_file:\n",
    "            shutil.copyfileobj(response, output_file)\n",
    "        paths.append(filename)\n",
    "    print()\n"
   ]
  },
  {
   "cell_type": "markdown",
   "metadata": {},
   "source": [
    "## We are ready, let's load a dataset\n",
    "\n",
    "The dataset is read using `pyarrow.dataset`:"
   ]
  },
  {
   "cell_type": "code",
   "execution_count": 4,
   "metadata": {},
   "outputs": [
    {
     "data": {
      "text/plain": [
       "<pyarrow._dataset.FileSystemDataset at 0x7ff8a9175270>"
      ]
     },
     "execution_count": 4,
     "metadata": {},
     "output_type": "execute_result"
    }
   ],
   "source": [
    "dataset = ds.dataset(paths, format='parquet')\n",
    "dataset"
   ]
  },
  {
   "cell_type": "markdown",
   "metadata": {},
   "source": [
    "The following line reads the dataset into an Arrow table. Depending on the size\n",
    "of the data this may require a lot of memory so we apply a filter (check the relevant documentation\n",
    "for more details: https://arrow.apache.org/docs/python/dataset.html)."
   ]
  },
  {
   "cell_type": "code",
   "execution_count": 5,
   "metadata": {},
   "outputs": [
    {
     "data": {
      "text/plain": [
       "(268966, 18)"
      ]
     },
     "execution_count": 5,
     "metadata": {},
     "output_type": "execute_result"
    }
   ],
   "source": [
    "tbl = dataset.to_table(filter=ds.field('tip_amount') > 10, batch_size=5E6)\n",
    "tbl.shape"
   ]
  },
  {
   "cell_type": "markdown",
   "metadata": {},
   "source": [
    "The table has a schema that describes types in its content."
   ]
  },
  {
   "cell_type": "code",
   "execution_count": 6,
   "metadata": {},
   "outputs": [
    {
     "data": {
      "text/plain": [
       "[DataType(string),\n",
       " TimestampType(timestamp[us]),\n",
       " TimestampType(timestamp[us]),\n",
       " DataType(int8),\n",
       " DataType(float),\n",
       " DataType(float),\n",
       " DataType(float),\n",
       " DataType(null),\n",
       " DataType(string),\n",
       " DataType(float),\n",
       " DataType(float),\n",
       " DataType(string),\n",
       " DataType(float),\n",
       " DataType(float),\n",
       " DataType(float),\n",
       " DataType(float),\n",
       " DataType(float),\n",
       " DataType(float)]"
      ]
     },
     "execution_count": 6,
     "metadata": {},
     "output_type": "execute_result"
    }
   ],
   "source": [
    "tbl.schema.types"
   ]
  },
  {
   "cell_type": "markdown",
   "metadata": {},
   "source": [
    "Each column is an array (this is a column-oriented format), or more specically a chunked array."
   ]
  },
  {
   "cell_type": "code",
   "execution_count": 7,
   "metadata": {},
   "outputs": [
    {
     "name": "stdout",
     "output_type": "stream",
     "text": [
      "Column: string\n",
      "    getitem: 1.83e-04s2173\n",
      "rarrow.ChunkedArray: 0.015054464340209961\n",
      "2173\n",
      "rarrow.ChunkedArray: 0.008445978164672852\n",
      "2173\n",
      "rarrow.ChunkedArray: 0.008262395858764648\n",
      " to R: 1.54e+00s\n",
      "Column: timestamp[us]\n",
      "    getitem: 6.29e-06s2173\n",
      "rarrow.ChunkedArray: 0.008836030960083008\n",
      "2173\n",
      "rarrow.ChunkedArray: 0.009700775146484375\n",
      "2173\n",
      "rarrow.ChunkedArray: 0.008553266525268555\n",
      " to R: 1.39e+00s\n",
      "Column: float\n",
      "    getitem: 4.24e-06s2173\n",
      "rarrow.ChunkedArray: 0.008428812026977539\n",
      "2173\n",
      "rarrow.ChunkedArray: 0.008717060089111328\n",
      "2173\n",
      "rarrow.ChunkedArray: 0.01002192497253418\n",
      " to R: 1.40e+00s\n"
     ]
    }
   ],
   "source": [
    "import timeit\n",
    "N = 3\n",
    "for col_i in (0, 1, 5):\n",
    "    print(f'Column: {tbl.schema.types[col_i]}')\n",
    "    t_getitem = timeit.timeit(lambda: tbl[col_i], number=N) / N\n",
    "    print(f'    getitem: {t_getitem:.2e}s', end='', flush=True)\n",
    "    array = tbl[col_i]\n",
    "    t_convert = timeit.timeit(lambda: pyra.converter.py2rpy(array), number=N) / N\n",
    "    print(f' to R: {t_convert:.2e}s')"
   ]
  },
  {
   "cell_type": "markdown",
   "metadata": {},
   "source": [
    "We can also convert the Arrow table directly. Note that it takes the cumulated time required to convert each one of the columns."
   ]
  },
  {
   "cell_type": "code",
   "execution_count": 8,
   "metadata": {},
   "outputs": [
    {
     "name": "stdout",
     "output_type": "stream",
     "text": [
      "2173\n",
      "rarrow.ChunkedArray: 0.009516716003417969\n",
      "2173\n",
      "rarrow.ChunkedArray: 0.009968757629394531\n",
      "2173\n",
      "rarrow.ChunkedArray: 0.009840250015258789\n",
      "2173\n",
      "rarrow.ChunkedArray: 0.010234832763671875\n",
      "2173\n",
      "rarrow.ChunkedArray: 0.010568380355834961\n",
      "2173\n",
      "rarrow.ChunkedArray: 0.010580062866210938\n",
      "2173\n",
      "rarrow.ChunkedArray: 0.012594938278198242\n",
      "2173\n",
      "rarrow.ChunkedArray: 0.0105438232421875\n",
      "2173\n",
      "rarrow.ChunkedArray: 0.010989665985107422\n",
      "2173\n",
      "rarrow.ChunkedArray: 0.010976314544677734\n",
      "2173\n",
      "rarrow.ChunkedArray: 0.008070945739746094\n",
      "2173\n",
      "rarrow.ChunkedArray: 0.008041143417358398\n",
      "2173\n",
      "rarrow.ChunkedArray: 0.008098125457763672\n",
      "2173\n",
      "rarrow.ChunkedArray: 0.008308172225952148\n",
      "2173\n",
      "rarrow.ChunkedArray: 0.011569023132324219\n",
      "2173\n",
      "rarrow.ChunkedArray: 0.008256196975708008\n",
      "2173\n",
      "rarrow.ChunkedArray: 0.00997161865234375\n",
      "2173\n",
      "rarrow.ChunkedArray: 0.010275840759277344\n",
      "CPU times: user 25.3 s, sys: 16.2 ms, total: 25.3 s\n",
      "Wall time: 25.3 s\n"
     ]
    }
   ],
   "source": [
    "%%time \n",
    "r_tbl = pyra.converter.py2rpy(tbl)"
   ]
  },
  {
   "cell_type": "markdown",
   "metadata": {},
   "source": [
    "This is disappointingly slow. We can go **much** faster by first combining the chunks."
   ]
  },
  {
   "cell_type": "code",
   "execution_count": 9,
   "metadata": {},
   "outputs": [
    {
     "name": "stdout",
     "output_type": "stream",
     "text": [
      "1\n",
      "rarrow.ChunkedArray: 0.0012023448944091797\n",
      "1\n",
      "rarrow.ChunkedArray: 0.0009665489196777344\n",
      "1\n",
      "rarrow.ChunkedArray: 0.0008852481842041016\n",
      "1\n",
      "rarrow.ChunkedArray: 0.0008819103240966797\n",
      "1\n",
      "rarrow.ChunkedArray: 0.0008609294891357422\n",
      "1\n",
      "rarrow.ChunkedArray: 0.0008563995361328125\n",
      "1\n",
      "rarrow.ChunkedArray: 0.000823974609375\n",
      "1\n",
      "rarrow.ChunkedArray: 0.0008325576782226562\n",
      "1\n",
      "rarrow.ChunkedArray: 0.0008220672607421875\n",
      "1\n",
      "rarrow.ChunkedArray: 0.0007770061492919922\n",
      "1\n",
      "rarrow.ChunkedArray: 0.0007734298706054688\n",
      "1\n",
      "rarrow.ChunkedArray: 0.0007355213165283203\n",
      "1\n",
      "rarrow.ChunkedArray: 0.0007584095001220703\n",
      "1\n",
      "rarrow.ChunkedArray: 0.0006628036499023438\n",
      "1\n",
      "rarrow.ChunkedArray: 0.0009865760803222656\n",
      "1\n",
      "rarrow.ChunkedArray: 0.0007016658782958984\n",
      "1\n",
      "rarrow.ChunkedArray: 0.0006785392761230469\n",
      "1\n",
      "rarrow.ChunkedArray: 0.0006563663482666016\n",
      "CPU times: user 81.2 ms, sys: 42 µs, total: 81.3 ms\n",
      "Wall time: 78.8 ms\n"
     ]
    }
   ],
   "source": [
    "%%time\n",
    "cb_tbl = tbl.combine_chunks()\n",
    "r_tbl = pyra.converter.py2rpy(cb_tbl)"
   ]
  },
  {
   "cell_type": "markdown",
   "metadata": {},
   "source": [
    "The table can then used in R, allowing to take advantage of individual strengths in a data science team\n",
    "(some prefer writing R code) or libraries in R for which there is arguably no matching equivalent in Python."
   ]
  },
  {
   "cell_type": "code",
   "execution_count": 10,
   "metadata": {},
   "outputs": [],
   "source": [
    "%load_ext rpy2.ipython"
   ]
  },
  {
   "cell_type": "code",
   "execution_count": 11,
   "metadata": {},
   "outputs": [
    {
     "name": "stdout",
     "output_type": "stream",
     "text": [
      "[1] \"Table\"       \"ArrowObject\" \"R6\"         \n"
     ]
    }
   ],
   "source": [
    "%%R -i r_tbl\n",
    "print(class(r_tbl))"
   ]
  },
  {
   "cell_type": "code",
   "execution_count": 12,
   "metadata": {},
   "outputs": [
    {
     "name": "stdout",
     "output_type": "stream",
     "text": [
      "\u001b[90m# A tibble: 19 x 2\u001b[39m\n",
      "   tip_group      n\n",
      "       \u001b[3m\u001b[90m<dbl>\u001b[39m\u001b[23m  \u001b[3m\u001b[90m<int>\u001b[39m\u001b[23m\n",
      "\u001b[90m 1\u001b[39m        10 \u001b[4m1\u001b[24m\u001b[4m4\u001b[24m\u001b[4m8\u001b[24m691\n",
      "\u001b[90m 2\u001b[39m        15  \u001b[4m7\u001b[24m\u001b[4m4\u001b[24m797\n",
      "\u001b[90m 3\u001b[39m        20  \u001b[4m2\u001b[24m\u001b[4m2\u001b[24m335\n",
      "\u001b[90m 4\u001b[39m        25   \u001b[4m7\u001b[24m635\n",
      "\u001b[90m 5\u001b[39m        30   \u001b[4m4\u001b[24m812\n",
      "\u001b[90m 6\u001b[39m        35   \u001b[4m2\u001b[24m589\n",
      "\u001b[90m 7\u001b[39m        40   \u001b[4m1\u001b[24m737\n",
      "\u001b[90m 8\u001b[39m        45   \u001b[4m1\u001b[24m119\n",
      "\u001b[90m 9\u001b[39m        50   \u001b[4m1\u001b[24m552\n",
      "\u001b[90m10\u001b[39m        55   \u001b[4m1\u001b[24m079\n",
      "\u001b[90m11\u001b[39m        60    785\n",
      "\u001b[90m12\u001b[39m        65    350\n",
      "\u001b[90m13\u001b[39m        70    323\n",
      "\u001b[90m14\u001b[39m        75    253\n",
      "\u001b[90m15\u001b[39m        80    284\n",
      "\u001b[90m16\u001b[39m        85    145\n",
      "\u001b[90m17\u001b[39m        90    201\n",
      "\u001b[90m18\u001b[39m        95    102\n",
      "\u001b[90m19\u001b[39m       100    177\n"
     ]
    }
   ],
   "source": [
    "%%R -i r_tbl\n",
    "\n",
    "library(dplyr, warn.conflicts = FALSE)\n",
    "r_tbl %>%\n",
    "  mutate(tip_group = round(tip_amount / 5) * 5) %>%\n",
    "  count(tip_group)"
   ]
  },
  {
   "cell_type": "code",
   "execution_count": 13,
   "metadata": {},
   "outputs": [
    {
     "name": "stderr",
     "output_type": "stream",
     "text": [
      "R[write to console]: Loading required package: viridisLite\n",
      "\n"
     ]
    },
    {
     "data": {
      "image/png": "[encoded data removed]"
     },
     "metadata": {},
     "output_type": "display_data"
    }
   ],
   "source": [
    "%%R -w 800 -h 600 --type cairo-png\n",
    "library(ggplot2, warn.conflicts = FALSE)\n",
    "library(viridis)\n",
    "options(bitmapType=\"cairo\")\n",
    "X11.options(antialias = \"subpixel\")\n",
    "p <- ggplot(r_tbl %>% collect()) +\n",
    "  geom_hex(aes(x = fare_amount, y = tip_amount/fare_amount),\n",
    "           bins = 75) +\n",
    "  scale_fill_viridis(trans=\"log10\") +\n",
    "  scale_y_continuous(\"tip\", labels = scales::percent, trans=\"log10\") +\n",
    "  ggtitle(\"Tip as a percentage of the fare\") + \n",
    "  theme_gray(base_size=19)\n",
    "print(p)"
   ]
  },
  {
   "cell_type": "code",
   "execution_count": null,
   "metadata": {},
   "outputs": [],
   "source": []
  }
 ],
 "metadata": {
  "kernelspec": {
   "display_name": "Python 3",
   "language": "python",
   "name": "python3"
  },
  "language_info": {
   "codemirror_mode": {
    "name": "ipython",
    "version": 3
   },
   "file_extension": ".py",
   "mimetype": "text/x-python",
   "name": "python",
   "nbconvert_exporter": "python",
   "pygments_lexer": "ipython3",
   "version": "3.8.5"
  }
 },
 "nbformat": 4,
 "nbformat_minor": 4
}
